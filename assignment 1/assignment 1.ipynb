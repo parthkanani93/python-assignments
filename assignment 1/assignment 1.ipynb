{
 "cells": [
  {
   "cell_type": "code",
   "execution_count": null,
   "metadata": {},
   "outputs": [],
   "source": []
  },
  {
   "cell_type": "code",
   "execution_count": 7,
   "metadata": {},
   "outputs": [
    {
     "name": "stdout",
     "output_type": "stream",
     "text": [
      "[2002, 2009, 2016, 2023, 2037, 2044, 2051, 2058, 2072, 2079, 2086, 2093, 2107, 2114, 2121, 2128, 2142, 2149, 2156, 2163, 2177, 2184, 2191, 2198, 2212, 2219, 2226, 2233, 2247, 2254, 2261, 2268, 2282, 2289, 2296, 2303, 2317, 2324, 2331, 2338, 2352, 2359, 2366, 2373, 2387, 2394, 2401, 2408, 2422, 2429, 2436, 2443, 2457, 2464, 2471, 2478, 2492, 2499, 2506, 2513, 2527, 2534, 2541, 2548, 2562, 2569, 2576, 2583, 2597, 2604, 2611, 2618, 2632, 2639, 2646, 2653, 2667, 2674, 2681, 2688, 2702, 2709, 2716, 2723, 2737, 2744, 2751, 2758, 2772, 2779, 2786, 2793, 2807, 2814, 2821, 2828, 2842, 2849, 2856, 2863, 2877, 2884, 2891, 2898, 2912, 2919, 2926, 2933, 2947, 2954, 2961, 2968, 2982, 2989, 2996, 3003, 3017, 3024, 3031, 3038, 3052, 3059, 3066, 3073, 3087, 3094, 3101, 3108, 3122, 3129, 3136, 3143, 3157, 3164, 3171, 3178, 3192, 3199]\n"
     ]
    }
   ],
   "source": [
    "# TASK 1   PROBLEM 2:-\n",
    "num=range(2000,3201)\n",
    "answer=[]\n",
    "for x in num:\n",
    "    if x%7==0 and x%5 !=0:\n",
    "        answer.append(x)\n",
    "print(answer)"
   ]
  },
  {
   "cell_type": "code",
   "execution_count": 16,
   "metadata": {},
   "outputs": [
    {
     "name": "stdout",
     "output_type": "stream",
     "text": [
      "enter first name   PARTH\n",
      "enter last name    KANANI\n",
      "THE REVERSE ORDER STRING ARE HTRAP  INANAK\n"
     ]
    }
   ],
   "source": [
    "# TASK 1  PROBLEM 3:-\n",
    "\n",
    "fname=input(\"enter first name   \")\n",
    "lname=input(\"enter last name    \")\n",
    "\n",
    "print(\"THE REVERSE ORDER STRING ARE \"+ fname[::-1] +\"  \"+ lname[::-1])\n",
    "\n",
    "    \n",
    "    \n",
    "\n",
    "\n",
    "\n",
    "\n",
    "\n"
   ]
  },
  {
   "cell_type": "code",
   "execution_count": 7,
   "metadata": {},
   "outputs": [
    {
     "name": "stdout",
     "output_type": "stream",
     "text": [
      "the volume is  904.3199999999999\n"
     ]
    }
   ],
   "source": [
    "# TASK 1   PROBLEM 4 :-\n",
    "# d is daimeter\n",
    "# r is radious\n",
    "# v is volume\n",
    "\n",
    "d =12\n",
    "π =3.14\n",
    "r=d/2\n",
    "v=((4/3)*π*(r*r*r))\n",
    "print(\"the volume is \",v)\n"
   ]
  },
  {
   "cell_type": "code",
   "execution_count": 38,
   "metadata": {},
   "outputs": [
    {
     "name": "stdout",
     "output_type": "stream",
     "text": [
      "how many time you enter the number  5\n",
      "enter number you want to add in list  1\n",
      "[1]\n",
      "enter number you want to add in list  2\n",
      "[1, 2]\n",
      "enter number you want to add in list  3\n",
      "[1, 2, 3]\n",
      "enter number you want to add in list  4\n",
      "[1, 2, 3, 4]\n",
      "enter number you want to add in list  5\n",
      "[1, 2, 3, 4, 5]\n",
      "the generated list is [1, 2, 3, 4, 5]\n"
     ]
    }
   ],
   "source": [
    "# TASK 2  PROBLEM 1:-\n",
    "k=int(input(\"how many time you enter the number  \"))\n",
    "n=0\n",
    "m=[]\n",
    "while n<k :\n",
    "    num=int(input(\"enter number you want to add in list  \"))\n",
    "    m.append(num)\n",
    "    n=n+1\n",
    "    print(m)\n",
    "    \n",
    "print(\"the generated list is\",m)"
   ]
  },
  {
   "cell_type": "code",
   "execution_count": 74,
   "metadata": {},
   "outputs": [
    {
     "name": "stdout",
     "output_type": "stream",
     "text": [
      "enter max number of start in one line5\n",
      "*  \n",
      "* *  \n",
      "* * *  \n",
      "* * * *  \n",
      "* * * * *  \n",
      "* * * *  \n",
      "* * *  \n",
      "* *  \n",
      "*  \n",
      " \n"
     ]
    }
   ],
   "source": [
    "# TASK 2  PROBLEM 2:-\n",
    "\n",
    "c=int(input(\"enter max number of start in one line\"))\n",
    "for i in range(0,c):\n",
    "    for j in range(0,i+1):\n",
    "        if j<=i:\n",
    "            print('*',end=\" \")\n",
    "            \n",
    "        \n",
    "    print(\" \")\n",
    "for i in range(c,0,-1):\n",
    "    for j in range(0,i-1):\n",
    "        if j<=i:\n",
    "            print('*',end=\" \")\n",
    "            \n",
    "        \n",
    "    print(\" \")\n",
    "    \n",
    "        \n",
    "    "
   ]
  },
  {
   "cell_type": "code",
   "execution_count": 23,
   "metadata": {},
   "outputs": [
    {
     "name": "stdout",
     "output_type": "stream",
     "text": [
      "enter the word you want to reverse it   AcadGild\n",
      "dliGdacA\n"
     ]
    }
   ],
   "source": [
    "#TASK 3  PROBLEM 3:-\n",
    "w=input(\"enter the word you want to reverse it   \")\n",
    "print(w[::-1])"
   ]
  },
  {
   "cell_type": "code",
   "execution_count": 37,
   "metadata": {},
   "outputs": [
    {
     "name": "stdout",
     "output_type": "stream",
     "text": [
      "WE, THE PEOPLE OF INDIA,\n",
      "\thaving solemnly resolved to constitute India into a SOVEREIGN, \n",
      " \t\tSOCIALIST, SECULAR, DEMOCRATIC REPUBLIC \n",
      "\t\t and to secure to all its citizens\n"
     ]
    }
   ],
   "source": [
    "# TASK 3  PROBLEM 4:-\n",
    "\n",
    "print(\"WE, THE PEOPLE OF INDIA,\\n\\thaving solemnly resolved to constitute India into a SOVEREIGN, \\n \\t\\tSOCIALIST, SECULAR, DEMOCRATIC REPUBLIC \\n\\t\\t and to secure to all its citizens\")\n"
   ]
  },
  {
   "cell_type": "code",
   "execution_count": null,
   "metadata": {},
   "outputs": [],
   "source": []
  },
  {
   "cell_type": "code",
   "execution_count": null,
   "metadata": {},
   "outputs": [],
   "source": []
  }
 ],
 "metadata": {
  "kernelspec": {
   "display_name": "Python 3",
   "language": "python",
   "name": "python3"
  },
  "language_info": {
   "codemirror_mode": {
    "name": "ipython",
    "version": 3
   },
   "file_extension": ".py",
   "mimetype": "text/x-python",
   "name": "python",
   "nbconvert_exporter": "python",
   "pygments_lexer": "ipython3",
   "version": "3.7.6"
  }
 },
 "nbformat": 4,
 "nbformat_minor": 4
}
