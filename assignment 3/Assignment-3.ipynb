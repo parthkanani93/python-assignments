{
 "cells": [
  {
   "cell_type": "code",
   "execution_count": 13,
   "metadata": {},
   "outputs": [],
   "source": [
    "# Task 1 problem :- 1\n",
    "\n",
    "\n",
    "\n",
    "def compute(n):\n",
    "    try:\n",
    "        v=5/n\n",
    "    except Exception as e:\n",
    "        print(e)\n",
    "    else:\n",
    "        print(\"answer is \",v)"
   ]
  },
  {
   "cell_type": "code",
   "execution_count": 14,
   "metadata": {},
   "outputs": [
    {
     "name": "stdout",
     "output_type": "stream",
     "text": [
      "enter number0\n",
      "division by zero\n"
     ]
    }
   ],
   "source": [
    "compute(int(input(\"enter number\")))"
   ]
  },
  {
   "cell_type": "code",
   "execution_count": 17,
   "metadata": {},
   "outputs": [],
   "source": [
    "# Task 1 problem :- 2\n",
    "\n",
    "subjects=[\"Americans \",\"Indians\"]\n",
    "verbs=[\"play\",\"watch\"]\n",
    "objects=[\"Baseball\",\"Cricket\"]\n",
    "\n",
    "def gensen(l1,l2,l3):\n",
    "    try:\n",
    "        for i in l1:\n",
    "            try:\n",
    "                for j in l2:\n",
    "                    try:\n",
    "                        for k in l3:\n",
    "                            try:\n",
    "                                print(i,j,k)\n",
    "                            except Exception as e:\n",
    "                                print(e)\n",
    "                    except Exception as e:\n",
    "                        print(e)\n",
    "            except Exception as e:\n",
    "                print(e)\n",
    "    except Exception as e:\n",
    "        print(e)"
   ]
  },
  {
   "cell_type": "code",
   "execution_count": 21,
   "metadata": {},
   "outputs": [
    {
     "name": "stdout",
     "output_type": "stream",
     "text": [
      "Americans  play Baseball\n",
      "Americans  play Cricket\n",
      "Americans  watch Baseball\n",
      "Americans  watch Cricket\n",
      "Indians play Baseball\n",
      "Indians play Cricket\n",
      "Indians watch Baseball\n",
      "Indians watch Cricket\n"
     ]
    }
   ],
   "source": [
    "gensen(subjects,verbs,objects)"
   ]
  },
  {
   "cell_type": "code",
   "execution_count": 2,
   "metadata": {},
   "outputs": [
    {
     "name": "stdout",
     "output_type": "stream",
     "text": [
      "Ascending:\n",
      "[[1, 1, 1], [1, 2, 4], [1, 3, 9], [1, 4, 16], [1, 5, 25], [1, 6, 36], [1, 7, 49]]\n",
      "Descending:\n",
      "[[1, 1, 1, 1, 1], [16, 8, 4, 2, 1], [81, 27, 9, 3, 1], [256, 64, 16, 4, 1], [625, 125, 25, 5, 1], [1296, 216, 36, 6, 1], [2401, 343, 49, 7, 1]]\n"
     ]
    }
   ],
   "source": [
    "# Task 2 problem 1:-\n",
    "\n",
    "def generate_vandermonde_matrix(l, p=5, isdescending=False):\n",
    "    if isdescending:\n",
    "        return [[i**j for j in range(p, -1, -1)] for i in l]\n",
    "    return [[i**j for j in range(p+1)] for i in l]\n",
    "\n",
    "print('Ascending:')\n",
    "print(generate_vandermonde_matrix([1,2,3,4,5,6,7], 2))\n",
    "print('Descending:')\n",
    "print(generate_vandermonde_matrix([1,2,3,4,5,6,7], 4, isdescending=True))\n",
    "\n",
    "\n"
   ]
  },
  {
   "cell_type": "code",
   "execution_count": null,
   "metadata": {},
   "outputs": [],
   "source": []
  }
 ],
 "metadata": {
  "kernelspec": {
   "display_name": "Python 3",
   "language": "python",
   "name": "python3"
  },
  "language_info": {
   "codemirror_mode": {
    "name": "ipython",
    "version": 3
   },
   "file_extension": ".py",
   "mimetype": "text/x-python",
   "name": "python",
   "nbconvert_exporter": "python",
   "pygments_lexer": "ipython3",
   "version": "3.7.6"
  }
 },
 "nbformat": 4,
 "nbformat_minor": 4
}
